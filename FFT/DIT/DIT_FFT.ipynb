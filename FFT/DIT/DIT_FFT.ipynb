{
 "cells": [
  {
   "cell_type": "code",
   "execution_count": 50,
   "metadata": {},
   "outputs": [
    {
     "name": "stdout",
     "output_type": "stream",
     "text": [
      "[(3+0j), (3.6568542494923797-3.82842712474619j), (9+0j), (-7.65685424949238-1.8284271247461898j), (3+0j), (-7.65685424949238+1.8284271247461898j), (9+0j), (3.6568542494923797+3.82842712474619j)]\n"
     ]
    }
   ],
   "source": [
    "import numpy as np\n",
    "import math\n",
    "\n",
    "def DIT_FFT(input_signal):\n",
    "\n",
    "    input_signal[1], input_signal[4] = input_signal[4], input_signal[1]\n",
    "    input_signal[3], input_signal[6] = input_signal[6], input_signal[3]\n",
    "    signal = np.array([input_signal])\n",
    "    input_ = np.hsplit(signal, 4)\n",
    "    W2 = np.array([[1, 1], [1, -1]])\n",
    "    for i in range(len(input_)):\n",
    "        input_[i] = np.dot(input_[i], W2)\n",
    "    layer1 = []\n",
    "    for ele in input_:\n",
    "        layer1.append(ele[0][0])\n",
    "        layer1.append(ele[0][1])\n",
    "    W40 = np.array([[1, 1], [1, -1]])\n",
    "    W41 = np.array([[1, 1], [complex(0, -1), complex(0, 1)]])\n",
    "    # Swapping for convienience\n",
    "    layer1[1], layer1[2] = layer1[2], layer1[1]\n",
    "    layer1[5], layer1[6] = layer1[6], layer1[5]\n",
    "    layer1 = np.hsplit(np.array([layer1]), 4)\n",
    "    for i in range(len(layer1)):\n",
    "        if i % 2 == 0:\n",
    "            layer1[i] = np.dot(layer1[i], W40)\n",
    "        else:\n",
    "            layer1[i] = np.dot(layer1[i], W41)\n",
    "    layer2 = []\n",
    "    for ele in layer1:\n",
    "        layer2.append(ele[0][0])\n",
    "        layer2.append(ele[0][1])\n",
    "    layer2[1], layer2[2] = layer2[2], layer2[1]\n",
    "    layer2[5], layer2[6] = layer2[6], layer2[5]\n",
    "    \n",
    "    W80 = np.array([[1, 1], [1, -1]])\n",
    "    W81 = np.array([[1, 1], [complex(1/math.sqrt(2), -1/math.sqrt(2)), complex(-1/math.sqrt(2), 1/math.sqrt(2))]])\n",
    "    W82 = np.array([[1, 1], [complex(0, -1), complex(0, 1)]])\n",
    "    W83 = np.array([[1, 1], [complex(-1/math.sqrt(2), -1/math.sqrt(2)), complex(1/math.sqrt(2), 1/math.sqrt(2))]])\n",
    "    \n",
    "    layer2[1], layer2[4] = layer2[4], layer2[1]\n",
    "    layer2[3], layer2[6] = layer2[6], layer2[3]\n",
    "    \n",
    "    \n",
    "    layer2 = np.hsplit(np.array([layer2]), 4)\n",
    "    \n",
    "    layer2[0] = np.dot(layer2[0], W80)\n",
    "    layer2[1] = np.dot(layer2[1], W82)\n",
    "    layer2[2] = np.dot(layer2[2], W81)\n",
    "    layer2[3] = np.dot(layer2[3], W83)\n",
    "    \n",
    "    \n",
    "    output = []\n",
    "    for ele in layer2:\n",
    "        output.append(ele[0][0])\n",
    "        output.append(ele[0][1])\n",
    "\n",
    "    output[1], output[4] = output[4], output[1]\n",
    "    output[3], output[6] = output[6], output[3]\n",
    "    return output\n",
    "\n",
    "input_signal = [2, 3, -1, -1, 4, -3, -2, 1]\n",
    "output = FFT(x)\n",
    "print(output)"
   ]
  }
 ],
 "metadata": {
  "kernelspec": {
   "display_name": "Python 3",
   "language": "python",
   "name": "python3"
  },
  "language_info": {
   "codemirror_mode": {
    "name": "ipython",
    "version": 3
   },
   "file_extension": ".py",
   "mimetype": "text/x-python",
   "name": "python",
   "nbconvert_exporter": "python",
   "pygments_lexer": "ipython3",
   "version": "3.7.3"
  }
 },
 "nbformat": 4,
 "nbformat_minor": 2
}
